{
 "cells": [
  {
   "cell_type": "code",
   "execution_count": 67,
   "metadata": {},
   "outputs": [],
   "source": [
    "from sklearn.metrics import confusion_matrix, ConfusionMatrixDisplay\n",
    "from sklearn.ensemble import RandomForestClassifier\n",
    "from sklearn.model_selection import train_test_split, GridSearchCV\n",
    "from sklearn.feature_extraction.text import TfidfVectorizer\n",
    "from sklearn.pipeline import make_pipeline\n",
    "from sklearn.naive_bayes import MultinomialNB\n",
    "from sklearn.svm import LinearSVC\n",
    "import pandas as pd"
   ]
  },
  {
   "cell_type": "markdown",
   "metadata": {},
   "source": [
    "# Data Preprocessing"
   ]
  },
  {
   "cell_type": "code",
   "execution_count": 38,
   "metadata": {},
   "outputs": [
    {
     "data": {
      "text/html": [
       "<div>\n",
       "<style scoped>\n",
       "    .dataframe tbody tr th:only-of-type {\n",
       "        vertical-align: middle;\n",
       "    }\n",
       "\n",
       "    .dataframe tbody tr th {\n",
       "        vertical-align: top;\n",
       "    }\n",
       "\n",
       "    .dataframe thead th {\n",
       "        text-align: right;\n",
       "    }\n",
       "</style>\n",
       "<table border=\"1\" class=\"dataframe\">\n",
       "  <thead>\n",
       "    <tr style=\"text-align: right;\">\n",
       "      <th></th>\n",
       "      <th>Unnamed: 0</th>\n",
       "      <th>Body</th>\n",
       "      <th>Label</th>\n",
       "    </tr>\n",
       "  </thead>\n",
       "  <tbody>\n",
       "    <tr>\n",
       "      <th>0</th>\n",
       "      <td>0</td>\n",
       "      <td>\\nSave up to 70% on Life Insurance.\\nWhy Spend...</td>\n",
       "      <td>1</td>\n",
       "    </tr>\n",
       "    <tr>\n",
       "      <th>1</th>\n",
       "      <td>1</td>\n",
       "      <td>1) Fight The Risk of Cancer!\\nhttp://www.adcli...</td>\n",
       "      <td>1</td>\n",
       "    </tr>\n",
       "    <tr>\n",
       "      <th>2</th>\n",
       "      <td>2</td>\n",
       "      <td>1) Fight The Risk of Cancer!\\nhttp://www.adcli...</td>\n",
       "      <td>1</td>\n",
       "    </tr>\n",
       "    <tr>\n",
       "      <th>3</th>\n",
       "      <td>3</td>\n",
       "      <td>##############################################...</td>\n",
       "      <td>1</td>\n",
       "    </tr>\n",
       "    <tr>\n",
       "      <th>4</th>\n",
       "      <td>4</td>\n",
       "      <td>I thought you might like these:\\n1) Slim Down ...</td>\n",
       "      <td>1</td>\n",
       "    </tr>\n",
       "  </tbody>\n",
       "</table>\n",
       "</div>"
      ],
      "text/plain": [
       "   Unnamed: 0                                               Body  Label\n",
       "0           0  \\nSave up to 70% on Life Insurance.\\nWhy Spend...      1\n",
       "1           1  1) Fight The Risk of Cancer!\\nhttp://www.adcli...      1\n",
       "2           2  1) Fight The Risk of Cancer!\\nhttp://www.adcli...      1\n",
       "3           3  ##############################################...      1\n",
       "4           4  I thought you might like these:\\n1) Slim Down ...      1"
      ]
     },
     "execution_count": 38,
     "metadata": {},
     "output_type": "execute_result"
    }
   ],
   "source": [
    "df = pd.read_csv('data/mails.csv')\n",
    "df.head()"
   ]
  },
  {
   "cell_type": "code",
   "execution_count": 41,
   "metadata": {},
   "outputs": [
    {
     "data": {
      "text/html": [
       "<div>\n",
       "<style scoped>\n",
       "    .dataframe tbody tr th:only-of-type {\n",
       "        vertical-align: middle;\n",
       "    }\n",
       "\n",
       "    .dataframe tbody tr th {\n",
       "        vertical-align: top;\n",
       "    }\n",
       "\n",
       "    .dataframe thead th {\n",
       "        text-align: right;\n",
       "    }\n",
       "</style>\n",
       "<table border=\"1\" class=\"dataframe\">\n",
       "  <thead>\n",
       "    <tr style=\"text-align: right;\">\n",
       "      <th></th>\n",
       "      <th>Body</th>\n",
       "      <th>Label</th>\n",
       "    </tr>\n",
       "  </thead>\n",
       "  <tbody>\n",
       "    <tr>\n",
       "      <th>0</th>\n",
       "      <td>Save up to 70% on Life Insurance. Why Spend M...</td>\n",
       "      <td>1</td>\n",
       "    </tr>\n",
       "    <tr>\n",
       "      <th>1</th>\n",
       "      <td>1) Fight The Risk of Cancer! http://www.adclic...</td>\n",
       "      <td>1</td>\n",
       "    </tr>\n",
       "    <tr>\n",
       "      <th>2</th>\n",
       "      <td>1) Fight The Risk of Cancer! http://www.adclic...</td>\n",
       "      <td>1</td>\n",
       "    </tr>\n",
       "    <tr>\n",
       "      <th>3</th>\n",
       "      <td>##############################################...</td>\n",
       "      <td>1</td>\n",
       "    </tr>\n",
       "    <tr>\n",
       "      <th>4</th>\n",
       "      <td>I thought you might like these: 1) Slim Down -...</td>\n",
       "      <td>1</td>\n",
       "    </tr>\n",
       "  </tbody>\n",
       "</table>\n",
       "</div>"
      ],
      "text/plain": [
       "                                                Body  Label\n",
       "0   Save up to 70% on Life Insurance. Why Spend M...      1\n",
       "1  1) Fight The Risk of Cancer! http://www.adclic...      1\n",
       "2  1) Fight The Risk of Cancer! http://www.adclic...      1\n",
       "3  ##############################################...      1\n",
       "4  I thought you might like these: 1) Slim Down -...      1"
      ]
     },
     "execution_count": 41,
     "metadata": {},
     "output_type": "execute_result"
    }
   ],
   "source": [
    "# Remove empty rows with no mail text, also drop NaN entries and drop \\n characters\n",
    "df_cleaned = df[df['Body'] != 'empty'].iloc[:, 1:]\n",
    "df_cleaned = df_cleaned.dropna(subset=['Body'])\n",
    "df_cleaned['Body'] = df_cleaned['Body'].replace('\\n', ' ', regex=True)\n",
    "df_cleaned.head()"
   ]
  },
  {
   "cell_type": "code",
   "execution_count": 42,
   "metadata": {},
   "outputs": [],
   "source": [
    "# Mail text\n",
    "X = df_cleaned['Body']\n",
    "\n",
    "# Labels\n",
    "y = df_cleaned['Label']\n",
    "\n",
    "# Split the data into training and testing sets\n",
    "X_train, X_test, y_train, y_test = train_test_split(X, y, test_size=0.2, random_state=42)"
   ]
  },
  {
   "cell_type": "code",
   "execution_count": 43,
   "metadata": {},
   "outputs": [
    {
     "data": {
      "text/plain": [
       "0     Save up to 70% on Life Insurance. Why Spend M...\n",
       "1    1) Fight The Risk of Cancer! http://www.adclic...\n",
       "2    1) Fight The Risk of Cancer! http://www.adclic...\n",
       "3    ##############################################...\n",
       "4    I thought you might like these: 1) Slim Down -...\n",
       "Name: Body, dtype: object"
      ]
     },
     "execution_count": 43,
     "metadata": {},
     "output_type": "execute_result"
    }
   ],
   "source": [
    "X.head()"
   ]
  },
  {
   "attachments": {},
   "cell_type": "markdown",
   "metadata": {},
   "source": [
    "## LinearSVC"
   ]
  },
  {
   "cell_type": "code",
   "execution_count": 45,
   "metadata": {},
   "outputs": [
    {
     "name": "stdout",
     "output_type": "stream",
     "text": [
      "Fitting 5 folds for each of 140 candidates, totalling 700 fits\n"
     ]
    }
   ],
   "source": [
    "pipeline = make_pipeline( TfidfVectorizer(), LinearSVC() )\n",
    "\n",
    "parameters = {\n",
    "    'tfidfvectorizer__max_features': [None, 2000, 3000, 5000, 7000, 9000, 10000],\n",
    "    'tfidfvectorizer__max_df': [0.7, 0.8, 0.9, 0.95, 1], \n",
    "    'linearsvc__C': [0.01, 0.1, 1, 10],\n",
    "}\n",
    "\n",
    "grid_search_linearSVC = GridSearchCV(pipeline, parameters, cv=5, n_jobs=-1, verbose=1)\n",
    "grid_search_linearSVC.fit(X_train, y_train)\n",
    "\n",
    "best_model_svc = grid_search_linearSVC.best_estimator_\n"
   ]
  },
  {
   "cell_type": "code",
   "execution_count": 46,
   "metadata": {},
   "outputs": [
    {
     "name": "stdout",
     "output_type": "stream",
     "text": [
      "Best parameters: {'linearsvc__C': 10, 'tfidfvectorizer__max_df': 0.9, 'tfidfvectorizer__max_features': None}\n",
      "Best cv accuracy score: 0.9895673592933202\n"
     ]
    }
   ],
   "source": [
    "print(\"Best parameters:\", grid_search_linearSVC.best_params_)\n",
    "print(\"Best cv accuracy score:\", grid_search_linearSVC.best_score_)"
   ]
  },
  {
   "cell_type": "code",
   "execution_count": 47,
   "metadata": {},
   "outputs": [
    {
     "name": "stdout",
     "output_type": "stream",
     "text": [
      "LinearSVC accuracy: 0.9873073436083409\n",
      "Specificity: 0.99609375\n",
      "Sensitivity: 0.9671641791044776\n"
     ]
    },
    {
     "data": {
      "text/plain": [
       "<sklearn.metrics._plot.confusion_matrix.ConfusionMatrixDisplay at 0x165212c10>"
      ]
     },
     "execution_count": 47,
     "metadata": {},
     "output_type": "execute_result"
    },
    {
     "data": {
      "image/png": "[encoded data removed]",
      "text/plain": [
       "<Figure size 640x480 with 2 Axes>"
      ]
     },
     "metadata": {},
     "output_type": "display_data"
    }
   ],
   "source": [
    "print(f\"LinearSVC accuracy: {best_model_svc.score(X_test, y_test)}\")\n",
    "predictions = best_model_svc.predict(X_test)\n",
    "cm = confusion_matrix(y_test, predictions, labels=best_model_svc.classes_)\n",
    "tn = cm[0,0]\n",
    "tp = cm[1,1]\n",
    "fn = cm[1,0]\n",
    "fp = cm[0,1]\n",
    "print(f\"Specificity: {tn / (tn + fp)}\")\n",
    "print(f\"Sensitivity: {tp / (tp + fn)}\")\n",
    "disp = ConfusionMatrixDisplay(confusion_matrix=cm, display_labels=[\"Legit\", \"Spam\"])\n",
    "disp.plot()"
   ]
  },
  {
   "cell_type": "markdown",
   "metadata": {},
   "source": [
    "Specificity is higher, which is preferable if we don't want legit mails to be classified as spam!"
   ]
  },
  {
   "attachments": {},
   "cell_type": "markdown",
   "metadata": {},
   "source": [
    "## MultinomialNB"
   ]
  },
  {
   "cell_type": "code",
   "execution_count": 48,
   "metadata": {},
   "outputs": [
    {
     "name": "stdout",
     "output_type": "stream",
     "text": [
      "Fitting 5 folds for each of 210 candidates, totalling 1050 fits\n"
     ]
    }
   ],
   "source": [
    "pipeline = make_pipeline( TfidfVectorizer(), MultinomialNB() )\n",
    "\n",
    "parameters = {\n",
    "    'tfidfvectorizer__max_features': [None, 2000, 3000, 5000, 7000, 9000, 10000],\n",
    "    'tfidfvectorizer__max_df': [0.7, 0.8, 0.9, 0.95, 1], \n",
    "    'multinomialnb__alpha': [0.001, 0.01, 0.1, 1, 5, 10],\n",
    "}\n",
    "\n",
    "grid_search_naive = GridSearchCV(pipeline, parameters, cv=5, n_jobs=-1, verbose=1)\n",
    "grid_search_naive.fit(X_train, y_train)\n",
    "\n",
    "best_model_nb = grid_search_naive.best_estimator_"
   ]
  },
  {
   "cell_type": "code",
   "execution_count": 49,
   "metadata": {},
   "outputs": [
    {
     "name": "stdout",
     "output_type": "stream",
     "text": [
      "Best parameters: {'multinomialnb__alpha': 0.01, 'tfidfvectorizer__max_df': 0.8, 'tfidfvectorizer__max_features': None}\n",
      "Best cv accuracy score: 0.9861647118173792\n"
     ]
    }
   ],
   "source": [
    "print(\"Best parameters:\", grid_search_naive.best_params_)\n",
    "print(\"Best cv accuracy score:\", grid_search_naive.best_score_)"
   ]
  },
  {
   "cell_type": "code",
   "execution_count": 66,
   "metadata": {},
   "outputs": [
    {
     "name": "stdout",
     "output_type": "stream",
     "text": [
      "MultinomialNB accuracy: 0.986400725294651\n",
      "Specificity: 1.0\n",
      "Sensitivity: 0.9552238805970149\n"
     ]
    },
    {
     "data": {
      "text/plain": [
       "<sklearn.metrics._plot.confusion_matrix.ConfusionMatrixDisplay at 0x1650d21d0>"
      ]
     },
     "execution_count": 66,
     "metadata": {},
     "output_type": "execute_result"
    },
    {
     "data": {
      "image/png": "[encoded data removed]",
      "text/plain": [
       "<Figure size 640x480 with 2 Axes>"
      ]
     },
     "metadata": {},
     "output_type": "display_data"
    }
   ],
   "source": [
    "print(f\"MultinomialNB accuracy: {best_model_nb.score(X_test, y_test)}\")\n",
    "predictions = best_model_nb.predict(X_test)\n",
    "cm = confusion_matrix(y_test, predictions, labels=best_model_nb.classes_)\n",
    "tn = cm[0,0]\n",
    "tp = cm[1,1]\n",
    "fn = cm[1,0]\n",
    "fp = cm[0,1]\n",
    "print(f\"Specificity: {tn / (tn + fp)}\")\n",
    "print(f\"Sensitivity: {tp / (tp + fn)}\")\n",
    "disp = ConfusionMatrixDisplay(confusion_matrix=cm, display_labels=[\"Legit\", \"Spam\"])\n",
    "disp.plot()\n"
   ]
  },
  {
   "cell_type": "markdown",
   "metadata": {},
   "source": [
    "Even better specificity than the LinearSVC clf, but worse sensitivity!"
   ]
  },
  {
   "attachments": {},
   "cell_type": "markdown",
   "metadata": {},
   "source": [
    "## Random Forest Classifier"
   ]
  },
  {
   "cell_type": "code",
   "execution_count": 51,
   "metadata": {},
   "outputs": [
    {
     "name": "stdout",
     "output_type": "stream",
     "text": [
      "Fitting 5 folds for each of 864 candidates, totalling 4320 fits\n"
     ]
    }
   ],
   "source": [
    "pipeline = make_pipeline( TfidfVectorizer(), RandomForestClassifier() )\n",
    "\n",
    "parameters = {\n",
    "    'tfidfvectorizer__max_features': [None, 5000, 10000],\n",
    "    'tfidfvectorizer__max_df': [0.75, 0.9, 1.0], \n",
    "    'randomforestclassifier__n_estimators': [100, 300, 450],\n",
    "    'randomforestclassifier__max_depth': [None, 60, 90, 120],\n",
    "    'randomforestclassifier__min_samples_split': [2, 5],\n",
    "    'randomforestclassifier__max_features': ['sqrt', 'log2'],\n",
    "    'randomforestclassifier__criterion': ['gini', 'entropy'],\n",
    "}\n",
    "\n",
    "\n",
    "grid_search_forest = GridSearchCV(pipeline, parameters, cv=5, n_jobs=-1, verbose=1)\n",
    "grid_search_forest.fit(X_test, y_test)\n",
    "\n",
    "best_model_rf = grid_search_forest.best_estimator_"
   ]
  },
  {
   "cell_type": "code",
   "execution_count": 52,
   "metadata": {},
   "outputs": [
    {
     "name": "stdout",
     "output_type": "stream",
     "text": [
      "Best parameters: {'randomforestclassifier__criterion': 'entropy', 'randomforestclassifier__max_depth': 120, 'randomforestclassifier__max_features': 'sqrt', 'randomforestclassifier__min_samples_split': 2, 'randomforestclassifier__n_estimators': 300, 'tfidfvectorizer__max_df': 0.75, 'tfidfvectorizer__max_features': 5000}\n",
      "Best cv accuracy score: 0.971007815713698\n"
     ]
    }
   ],
   "source": [
    "print(\"Best parameters:\", grid_search_forest.best_params_)\n",
    "print(\"Best cv accuracy score:\", grid_search_forest.best_score_)"
   ]
  },
  {
   "cell_type": "code",
   "execution_count": 53,
   "metadata": {},
   "outputs": [
    {
     "name": "stdout",
     "output_type": "stream",
     "text": [
      "Random Forest accuracy: 1.0\n",
      "Specificity: 1.0\n",
      "Sensitivity: 1.0\n"
     ]
    },
    {
     "data": {
      "text/plain": [
       "<sklearn.metrics._plot.confusion_matrix.ConfusionMatrixDisplay at 0x283434a10>"
      ]
     },
     "execution_count": 53,
     "metadata": {},
     "output_type": "execute_result"
    },
    {
     "data": {
      "image/png": "[encoded data removed]",
      "text/plain": [
       "<Figure size 640x480 with 2 Axes>"
      ]
     },
     "metadata": {},
     "output_type": "display_data"
    }
   ],
   "source": [
    "print(f\"Random Forest accuracy: {best_model_rf.score(X_test, y_test)}\")\n",
    "predictions = best_model_rf.predict(X_test)\n",
    "cm = confusion_matrix(y_test, predictions, labels=best_model_rf.classes_)\n",
    "tn = cm[0,0]\n",
    "tp = cm[1,1]\n",
    "fn = cm[1,0]\n",
    "fp = cm[0,1]\n",
    "print(f\"Specificity: {tn / (tn + fp)}\")\n",
    "print(f\"Sensitivity: {tp / (tp + fn)}\")\n",
    "disp = ConfusionMatrixDisplay(confusion_matrix=cm, display_labels=[\"Legit\", \"Spam\"])\n",
    "disp.plot()"
   ]
  },
  {
   "cell_type": "markdown",
   "metadata": {},
   "source": [
    "Best performance of all three classifiers!"
   ]
  }
 ],
 "metadata": {
  "kernelspec": {
   "display_name": "Python 3 (ipykernel)",
   "language": "python",
   "name": "python3"
  },
  "language_info": {
   "codemirror_mode": {
    "name": "ipython",
    "version": 3
   },
   "file_extension": ".py",
   "mimetype": "text/x-python",
   "name": "python",
   "nbconvert_exporter": "python",
   "pygments_lexer": "ipython3",
   "version": "3.11.5"
  }
 },
 "nbformat": 4,
 "nbformat_minor": 4
}
